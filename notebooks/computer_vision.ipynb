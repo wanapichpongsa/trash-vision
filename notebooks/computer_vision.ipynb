{
 "cells": [
  {
   "cell_type": "code",
   "execution_count": 4,
   "metadata": {
    "vscode": {
     "languageId": "shellscript"
    }
   },
   "outputs": [
    {
     "name": "stdout",
     "output_type": "stream",
     "text": [
      "Requirement already satisfied: torch in ./.venv/lib/python3.12/site-packages (2.5.1)\n",
      "Requirement already satisfied: torchvision in ./.venv/lib/python3.12/site-packages (0.20.1)\n",
      "Requirement already satisfied: filelock in ./.venv/lib/python3.12/site-packages (from torch) (3.17.0)\n",
      "Requirement already satisfied: typing-extensions>=4.8.0 in ./.venv/lib/python3.12/site-packages (from torch) (4.12.2)\n",
      "Requirement already satisfied: networkx in ./.venv/lib/python3.12/site-packages (from torch) (3.4.2)\n",
      "Requirement already satisfied: jinja2 in ./.venv/lib/python3.12/site-packages (from torch) (3.1.5)\n",
      "Requirement already satisfied: fsspec in ./.venv/lib/python3.12/site-packages (from torch) (2024.12.0)\n",
      "Requirement already satisfied: setuptools in ./.venv/lib/python3.12/site-packages (from torch) (75.8.0)\n",
      "Requirement already satisfied: sympy==1.13.1 in ./.venv/lib/python3.12/site-packages (from torch) (1.13.1)\n",
      "Requirement already satisfied: mpmath<1.4,>=1.1.0 in ./.venv/lib/python3.12/site-packages (from sympy==1.13.1->torch) (1.3.0)\n",
      "Requirement already satisfied: numpy in ./.venv/lib/python3.12/site-packages (from torchvision) (2.2.2)\n",
      "Requirement already satisfied: pillow!=8.3.*,>=5.3.0 in ./.venv/lib/python3.12/site-packages (from torchvision) (11.1.0)\n",
      "Requirement already satisfied: MarkupSafe>=2.0 in ./.venv/lib/python3.12/site-packages (from jinja2->torch) (3.0.2)\n",
      "Requirement already satisfied: pyserial in ./.venv/lib/python3.12/site-packages (3.5)\n",
      "Collecting opencv-python\n",
      "  Downloading opencv_python-4.11.0.86-cp37-abi3-macosx_13_0_arm64.whl.metadata (20 kB)\n",
      "Requirement already satisfied: numpy>=1.21.2 in ./.venv/lib/python3.12/site-packages (from opencv-python) (2.2.2)\n",
      "Downloading opencv_python-4.11.0.86-cp37-abi3-macosx_13_0_arm64.whl (37.3 MB)\n",
      "\u001b[2K   \u001b[90m━━━━━━━━━━━━━━━━━━━━━━━━━━━━━━━━━━━━━━━━\u001b[0m \u001b[32m37.3/37.3 MB\u001b[0m \u001b[31m11.5 MB/s\u001b[0m eta \u001b[36m0:00:00\u001b[0ma \u001b[36m0:00:01\u001b[0m\n",
      "\u001b[?25hInstalling collected packages: opencv-python\n",
      "Successfully installed opencv-python-4.11.0.86\n"
     ]
    }
   ],
   "source": [
    "# ONLY RUN THIS ONCE. Uncomment right command for your OS before running.\n",
    "# !source .venv/bin/activate (MacOS / Linux)\n",
    "# !.venv\\Scripts\\activate (Windows)\n",
    "!pip3 install torch torchvision\n",
    "!pip install numpy\n",
    "!pip install pyserial\n",
    "!pip install opencv-python"
   ]
  },
  {
   "cell_type": "markdown",
   "metadata": {},
   "source": [
    "# The Actual Code Functionality"
   ]
  },
  {
   "cell_type": "code",
   "execution_count": 1,
   "metadata": {
    "vscode": {
     "languageId": "shellscript"
    }
   },
   "outputs": [
    {
     "name": "stdout",
     "output_type": "stream",
     "text": [
      "2025-01-30 08:17:35.787 Python[10459:132945] WARNING: AVCaptureDeviceTypeExternal is deprecated for Continuity Cameras. Please use AVCaptureDeviceTypeContinuityCamera and add NSCameraUseContinuityCameraDeviceType to your Info.plist.\n",
      "True\n"
     ]
    }
   ],
   "source": [
    "# Check if your camera is working (ignore deprecation warning)\n",
    "!python3 -c \"import cv2; cap = cv2.VideoCapture(0); print(cap.isOpened())\"\n",
    "# If True, proceed. If not, try:\n",
    "# 1. run !system_profiler SPCameraDataType to list existing cameras\n",
    "# 2. Go to system preferences -> privacy & security -> camera -> check if your IDE has access to camera\n",
    "# FYI: cv.VideoCapture(0) doesn't need a proxy like Photobooth. It takes images straight from your camera."
   ]
  },
  {
   "cell_type": "code",
   "execution_count": 8,
   "metadata": {},
   "outputs": [],
   "source": [
    "import cv2\n",
    "import torch\n",
    "import torchvision.models as models\n",
    "import torchvision.transforms as transforms\n",
    "import numpy as np\n",
    "\n",
    "# Load pre-trained model\n",
    "model = models.mobilenet_v2(weights=models.MobileNet_V2_Weights.DEFAULT)\n",
    "model.eval()  # Set to evaluation mode\n",
    "\n",
    "# Init preprocess method\n",
    "preprocess = transforms.Compose([\n",
    "    transforms.ToPILImage(),\n",
    "    transforms.Resize(256),\n",
    "    transforms.CenterCrop(224),\n",
    "    transforms.ToTensor(),\n",
    "    transforms.Normalize(mean=[0.485, 0.456, 0.406], std=[0.229, 0.224, 0.225]),\n",
    "])\n",
    "\n",
    "# Use logging to classify errors and info messages\n",
    "import logging\n",
    "import time\n",
    "logging.basicConfig(level=logging.INFO, format='%(asctime)s - %(levelname)s - %(message)s')\n",
    "\n",
    "try:\n",
    "    # Open camera and capture image\n",
    "    cap = cv2.VideoCapture(0) # 0 is your computer's default camera\n",
    "    logging.info(f\"Camera is opened: {cap.isOpened()}\")\n",
    "    time.sleep(1)\n",
    "    if not cap.isOpened():\n",
    "         raise RuntimeError(\"Cannot open camera - check if camera is connected\")\n",
    "\n",
    "\n",
    "    ret, frame = cap.read() # ret: bool, frame: np.ndarray (matrix of pixels)\n",
    "    if not ret or frame is None:\n",
    "        raise RuntimeError(\"Failed to capture frame from camera\")\n",
    "    # Look for 'test_capture.jpg' in the notebooks folder\n",
    "    cv2.imwrite(\"test_capture.jpg\", frame)\n",
    "    logging.info(\"Frame captured and saved as test_capture.jpg\")\n",
    "\n",
    "    # Pass frame through reprocess and then classify frame\n",
    "    input_tensor = preprocess(frame).unsqueeze(0)  # Add batch dimension e.g., [height, width, channels] -> [batch_size, h, w, c] [1, ...] means process 1 image at a time.\n",
    "    \n",
    "except Exception as e:\n",
    "    logging.error(f\"Camera error: {e}\")\n",
    "    raise\n",
    "\n",
    "finally:\n",
    "    cap.release() # release camera resources after use\n",
    "\n",
    "with torch.no_grad():\n",
    "        output = model(input_tensor)\n",
    "        class_id = torch.argmax(output).item()  # Get predicted class ID\n"
   ]
  },
  {
   "cell_type": "markdown",
   "metadata": {},
   "source": [
    "### Draft Code for Serial Communication with Arduino\n",
    "\n",
    "```python\n",
    "import serial\n",
    "\n",
    "# Initialize serial communication\n",
    "arduino = serial.Serial('COM3', 9600)  # Adjust port and baud rate\n",
    "\n",
    "# Capture image\n",
    "cap = cv2.VideoCapture(0)\n",
    "ret, frame = cap.read()\n",
    "\n",
    "# Preprocess and classify\n",
    "input_tensor = preprocess(frame).unsqueeze(0)  # Add batch dimension\n",
    "with torch.no_grad():\n",
    "    output = model(input_tensor)\n",
    "class_id = torch.argmax(output).item()  # Get predicted class ID\n",
    "\n",
    "# Send signal to Arduino\n",
    "arduino.write(str(class_id).encode())\n",
    "\n",
    "cap.release()\n",
    "```"
   ]
  }
 ],
 "metadata": {
  "kernelspec": {
   "display_name": ".venv",
   "language": "python",
   "name": "python3"
  },
  "language_info": {
   "codemirror_mode": {
    "name": "ipython",
    "version": 3
   },
   "file_extension": ".py",
   "mimetype": "text/x-python",
   "name": "python",
   "nbconvert_exporter": "python",
   "pygments_lexer": "ipython3",
   "version": "3.12.6"
  }
 },
 "nbformat": 4,
 "nbformat_minor": 2
}
